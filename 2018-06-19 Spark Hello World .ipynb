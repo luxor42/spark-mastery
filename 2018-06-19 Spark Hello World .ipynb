{
 "cells": [
  {
   "cell_type": "code",
   "execution_count": 1,
   "metadata": {},
   "outputs": [],
   "source": [
    "import findspark\n",
    "findspark.init()\n",
    "from pyspark import SparkContext\n",
    "sc = SparkContext(master=\"local[4]\")"
   ]
  },
  {
   "cell_type": "code",
   "execution_count": 3,
   "metadata": {},
   "outputs": [
    {
     "name": "stdout",
     "output_type": "stream",
     "text": [
      "Number of random points: 1000000\n",
      "Mean: [-0.00019744 -0.00035965]\n",
      "stdev: [0.5768445  0.57724805]\n",
      "[array([-0.77960384,  0.01987534]), array([0.1466355 , 0.92547543]), array([-0.81872805,  0.57957035]), array([0.49892056, 0.05987268]), array([-0.48966823,  0.50691833])]\n"
     ]
    }
   ],
   "source": [
    "import numpy as np\n",
    "\n",
    "TOTAL = 1000000\n",
    "dots = sc.parallelize([2.0 * np.random.random(2) - 1.0\n",
    "                       for i in range(TOTAL)]) \\\n",
    "         .cache()\n",
    "print(\"Number of random points:\", dots.count())\n",
    "\n",
    "stats = dots.stats()\n",
    "print('Mean:', stats.mean())\n",
    "print('stdev:', stats.stdev())\n",
    "print(dots.take(5))"
   ]
  },
  {
   "cell_type": "code",
   "execution_count": 4,
   "metadata": {},
   "outputs": [
    {
     "data": {
      "text/plain": [
       "pyspark.rdd.PipelinedRDD"
      ]
     },
     "execution_count": 4,
     "metadata": {},
     "output_type": "execute_result"
    }
   ],
   "source": [
    "from operator import itemgetter\n",
    "\n",
    "# x.itemgetter(a) - fetches value at location a, assuming x is just an iterable (e.g. list)\n",
    "# sample.map(itemgetter(a)) - returns a new RDD object by applying itemgetter(a) to every element in sample\n",
    "# sample.map(itemgetter(a)).collect() - Takes the RDD object and returns it as a python list\n",
    "type(dots.map(itemgetter(0)))"
   ]
  },
  {
   "cell_type": "code",
   "execution_count": 5,
   "metadata": {},
   "outputs": [
    {
     "data": {
      "text/plain": [
       "<matplotlib.collections.PathCollection at 0x104f1a048>"
      ]
     },
     "execution_count": 5,
     "metadata": {},
     "output_type": "execute_result"
    },
    {
     "data": {
      "image/png": "[encoded data removed]",
      "text/plain": [
       "<Figure size 720x360 with 2 Axes>"
      ]
     },
     "metadata": {},
     "output_type": "display_data"
    }
   ],
   "source": [
    "%matplotlib inline\n",
    "from operator import itemgetter\n",
    "from matplotlib import pyplot as plt\n",
    "\n",
    "plt.figure(figsize = (10, 5))\n",
    "\n",
    "# Plot 1\n",
    "plt.subplot(1, 2, 1)\n",
    "plt.xlim((-1.0, 1.0))\n",
    "plt.ylim((-1.0, 1.0))\n",
    "\n",
    "sample = dots.sample(False, 0.1)\n",
    "X = sample.map(itemgetter(0)).collect()\n",
    "Y = sample.map(itemgetter(1)).collect()\n",
    "plt.scatter(X, Y)\n",
    "\n",
    "# Plot 2\n",
    "plt.subplot(1, 2, 2)\n",
    "plt.xlim((-1.0, 1.0))\n",
    "plt.ylim((-1.0, 1.0))\n",
    "\n",
    "inCircle = lambda v: np.linalg.norm(v) <= 1.0\n",
    "dotsIn = sample.filter(inCircle).cache()\n",
    "dotsOut = sample.filter(lambda v: not inCircle(v)).cache()\n",
    "\n",
    "# inside circle\n",
    "Xin = dotsIn.map(itemgetter(0)).collect()\n",
    "Yin = dotsIn.map(itemgetter(1)).collect()\n",
    "plt.scatter(Xin, Yin, color = 'r')\n",
    "\n",
    "# outside circle\n",
    "Xout = dotsOut.map(itemgetter(0)).collect()\n",
    "Yout = dotsOut.map(itemgetter(1)).collect()\n",
    "plt.scatter(Xout, Yout)"
   ]
  },
  {
   "cell_type": "code",
   "execution_count": 6,
   "metadata": {},
   "outputs": [
    {
     "name": "stdout",
     "output_type": "stream",
     "text": [
      "The estimation of \\pi is: 3.145068\n"
     ]
    }
   ],
   "source": [
    "pi = 4.0 * (dots.filter(inCircle).count()*1.0 / TOTAL)\n",
    "print(\"The estimation of \\pi is:\", pi)"
   ]
  },
  {
   "cell_type": "code",
   "execution_count": 12,
   "metadata": {},
   "outputs": [
    {
     "name": "stdout",
     "output_type": "stream",
     "text": [
      "[0, 1, 2, 3]\n",
      "4\n"
     ]
    },
    {
     "data": {
      "text/plain": [
       "1249999975000000"
      ]
     },
     "execution_count": 12,
     "metadata": {},
     "output_type": "execute_result"
    }
   ],
   "source": [
    "# Simple operations on plain RDDs\n",
    "print(sc.parallelize(range(4)).collect()) # Get original RDD back as a list\n",
    "print(sc.parallelize(range(4)).count())   # Count the number of elements in an RDD\n",
    "A = sc.parallelize(range(50000000))              # Define a function that generates an RDD\n",
    "A.reduce(lambda x, y: x+y)                # Use a reduce operation to sum of values of that RDD one at a time.  "
   ]
  },
  {
   "cell_type": "code",
   "execution_count": 13,
   "metadata": {},
   "outputs": [
    {
     "name": "stdout",
     "output_type": "stream",
     "text": [
      "ParallelCollectionRDD[53] at parallelize at PythonRDD.scala:184\n",
      "[(55632, {'name': 'yoav', 'city': 'jerusalem'}), (3342, {'name': 'homer', 'town': 'springfield'})]\n",
      "\n",
      "PythonRDD[55] at RDD at PythonRDD.scala:49\n",
      "[(0, 0), (1, 1), (2, 4), (3, 9)]\n",
      "\n",
      "ParallelCollectionRDD[56] at parallelize at PythonRDD.scala:184\n",
      "PythonRDD[61] at RDD at PythonRDD.scala:49\n",
      "[(4, 100), (1, -15), (3, 2)]\n"
     ]
    }
   ],
   "source": [
    "# Examples of (key, value) RDDs\n",
    "database = sc.parallelize([\n",
    "    (55632, {'name': 'yoav',  'city': 'jerusalem'} )\n",
    "    ,(3342, {'name': 'homer', 'town': 'springfield'})])\n",
    "print(database)\n",
    "print(database.collect())\n",
    "\n",
    "print(\"\")\n",
    "A = sc.parallelize(range(4)).map(lambda x: (x, x*x))\n",
    "print(A)\n",
    "print(A.collect())\n",
    "\n",
    "print(\"\")\n",
    "A = sc.parallelize([(1,3),(4,100),(1,-5),(3,2)])\n",
    "print(A)\n",
    "A = A.reduceByKey(lambda x,y: x*y)\n",
    "print (A)\n",
    "print(A.collect())\n",
    "\n",
    "# Should really be doing large iterations this with an iterator, not a regular list\n",
    "# for x in xrange(1000000):\n",
    "\n"
   ]
  },
  {
   "cell_type": "code",
   "execution_count": 75,
   "metadata": {},
   "outputs": [
    {
     "data": {
      "text/plain": [
       "4.166666666666667"
      ]
     },
     "execution_count": 75,
     "metadata": {},
     "output_type": "execute_result"
    }
   ],
   "source": [
    "# Quiz 1.2 - Given a list l of integers, which of the following \n",
    "# expressions compute the average of the elements in the list?\n",
    "from functools import reduce\n",
    "l = [1,2,3,4,5,10]\n",
    "\n",
    "# Create an iterator that's a bunch of 1's the length of the list:\n",
    "#    ones: map(lambda x: 1, l)\n",
    "# Sum over that iterator: \n",
    "#    denominator =reduce(lambda x, y: x+y, ones)\n",
    "# Sum over the value of the items in the list: \n",
    "#     numerator = reduce(lambda x, y: x+y, l)\n",
    "# Divide them to get the mean:\n",
    "#     print(numerator / denominator)\n",
    "\n",
    "reduce(lambda x, y: x+y, l) / reduce(lambda x, y: x+y, map(lambda x: 1, l))"
   ]
  },
  {
   "cell_type": "code",
   "execution_count": null,
   "metadata": {},
   "outputs": [],
   "source": []
  },
  {
   "cell_type": "markdown",
   "metadata": {},
   "source": [
    "### Week 1, part 2 of 2"
   ]
  },
  {
   "cell_type": "markdown",
   "metadata": {},
   "source": [
    "# Shortest word in a list\n",
    "\n",
    "words = {'this', 'is', 'the', 'best', 'mac', 'ever'}\n",
    "wordRdd = sc.parallelize(words)\n",
    "wordRdd.reduce(lambda w, v: w if len(w)<len(v) else v)\n"
   ]
  },
  {
   "cell_type": "markdown",
   "metadata": {},
   "source": [
    "#### Custom functions in a reduce statement"
   ]
  },
  {
   "cell_type": "code",
   "execution_count": 21,
   "metadata": {},
   "outputs": [
    {
     "data": {
      "text/plain": [
       "'this'"
      ]
     },
     "execution_count": 21,
     "metadata": {},
     "output_type": "execute_result"
    }
   ],
   "source": [
    "# Last lexigraphical word among the longest words\n",
    "words = {'this', 'is', 'the', 'best', 'mac', 'ever'}\n",
    "def largerThan(x, y):\n",
    "    if len(x) > len(y): return x\n",
    "    elif len(y) > len(x): return y\n",
    "    else: \n",
    "        if x > y:\n",
    "            return x\n",
    "        else:\n",
    "            return y\n",
    "wordRdd = sc.parallelize(words)\n",
    "wordRdd.reduce(largerThan)"
   ]
  },
  {
   "cell_type": "markdown",
   "metadata": {},
   "source": [
    "#### Spark Worker Optimization"
   ]
  },
  {
   "cell_type": "code",
   "execution_count": 4,
   "metadata": {},
   "outputs": [
    {
     "name": "stdout",
     "output_type": "stream",
     "text": [
      "1 executors, time = 1.979173183441162\n",
      "2 executors, time = 1.6027801036834717\n",
      "3 executors, time = 1.6311359405517578\n",
      "4 executors, time = 1.6508269309997559\n",
      "5 executors, time = 1.6793198585510254\n",
      "6 executors, time = 1.8819191455841064\n",
      "7 executors, time = 1.8730149269104004\n",
      "8 executors, time = 1.7702810764312744\n",
      "9 executors, time = 1.8310468196868896\n"
     ]
    }
   ],
   "source": [
    "from time import time\n",
    "from pyspark import SparkContext\n",
    "for j in range(1, 10):\n",
    "    sc = SparkContext(master=\"local[%d]\"%(j))\n",
    "    t0 = time()\n",
    "    for i in range(10):\n",
    "        sc.parallelize([1,2]*100000).reduce(lambda x,y:x+y)\n",
    "    print(\"{} executors, time = {}\".format(j, time()-t0))\n",
    "    sc.stop()"
   ]
  },
  {
   "cell_type": "markdown",
   "metadata": {},
   "source": [
    "#### See the effect of Lazy Evaluation"
   ]
  },
  {
   "cell_type": "code",
   "execution_count": 27,
   "metadata": {},
   "outputs": [],
   "source": [
    "# New Spark context outside of other cells\n",
    "sc.stop()\n",
    "sc = SparkContext(master=\"local[4]\")\n",
    "RDD=sc.parallelize(range(1000000))"
   ]
  },
  {
   "cell_type": "code",
   "execution_count": 29,
   "metadata": {},
   "outputs": [
    {
     "name": "stdout",
     "output_type": "stream",
     "text": [
      "CPU times: user 10 µs, sys: 0 ns, total: 10 µs\n",
      "Wall time: 13.1 µs\n"
     ]
    }
   ],
   "source": [
    "%%time\n",
    "# Create a dummy function to compute cox(x) from 1 to 100\n",
    "# Goal is just to take up time\n",
    "# Note that it takes 420 ms = 13 microseconds\n",
    "from math import cos\n",
    "def taketime(i):\n",
    "    [cos(j) for j in range(100)]\n",
    "    return cos(i)"
   ]
  },
  {
   "cell_type": "code",
   "execution_count": 25,
   "metadata": {},
   "outputs": [
    {
     "data": {
      "text/plain": [
       "0.5403023058681398"
      ]
     },
     "execution_count": 25,
     "metadata": {},
     "output_type": "execute_result"
    }
   ],
   "source": [
    "taketime(1)"
   ]
  },
  {
   "cell_type": "code",
   "execution_count": 38,
   "metadata": {},
   "outputs": [
    {
     "name": "stdout",
     "output_type": "stream",
     "text": [
      "CPU times: user 15 µs, sys: 0 ns, total: 15 µs\n",
      "Wall time: 17.9 µs\n"
     ]
    }
   ],
   "source": [
    "%%time\n",
    "# Doing the taketime() on all values in the RDD -- 1 Million values\n",
    "# Expect it to take 1 Million x 13 microsec = 13 seconds\n",
    "# But it just takes ~20 microseconds!\n",
    "Interm=RDD.map(lambda x: taketime(x))"
   ]
  },
  {
   "cell_type": "code",
   "execution_count": 39,
   "metadata": {},
   "outputs": [
    {
     "name": "stdout",
     "output_type": "stream",
     "text": [
      "(4) PythonRDD[1] at RDD at PythonRDD.scala:49 []\n",
      " |  ParallelCollectionRDD[0] at parallelize at PythonRDD.scala:184 []\n"
     ]
    }
   ],
   "source": [
    "print(Interm.toDebugString().decode())"
   ]
  },
  {
   "cell_type": "code",
   "execution_count": 41,
   "metadata": {},
   "outputs": [
    {
     "name": "stdout",
     "output_type": "stream",
     "text": [
      "out= -0.2887054679684655\n",
      "CPU times: user 8.66 ms, sys: 3.66 ms, total: 12.3 ms\n",
      "Wall time: 9.58 s\n"
     ]
    }
   ],
   "source": [
    "%%time\n",
    "# Takes 8 seconds, << the 13 seconds we expected\n",
    "print('out=',Interm.reduce(lambda x, y: x+y))"
   ]
  },
  {
   "cell_type": "code",
   "execution_count": null,
   "metadata": {},
   "outputs": [],
   "source": []
  },
  {
   "cell_type": "code",
   "execution_count": null,
   "metadata": {},
   "outputs": [],
   "source": []
  }
 ],
 "metadata": {
  "kernelspec": {
   "display_name": "Python 3",
   "language": "python",
   "name": "python3"
  },
  "language_info": {
   "codemirror_mode": {
    "name": "ipython",
    "version": 3
   },
   "file_extension": ".py",
   "mimetype": "text/x-python",
   "name": "python",
   "nbconvert_exporter": "python",
   "pygments_lexer": "ipython3",
   "version": "3.6.5"
  }
 },
 "nbformat": 4,
 "nbformat_minor": 2
}
