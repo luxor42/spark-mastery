{
 "cells": [
  {
   "cell_type": "code",
   "execution_count": 1,
   "metadata": {},
   "outputs": [],
   "source": [
    "import findspark\n",
    "findspark.init()\n",
    "from pyspark import SparkContext\n",
    "sc = SparkContext(master=\"local[4]\")"
   ]
  },
  {
   "cell_type": "code",
   "execution_count": 2,
   "metadata": {},
   "outputs": [
    {
     "name": "stdout",
     "output_type": "stream",
     "text": [
      "Number of random points: 1000000\n",
      "Mean: [-3.08942669e-04 -6.21335243e-05]\n",
      "stdev: [0.57755921 0.57713799]\n",
      "[array([0.27884227, 0.92298525]), array([ 0.49370156, -0.76820063]), array([0.29948849, 0.42317416]), array([-0.47861802, -0.86888103]), array([-0.32347756, -0.48783719])]\n"
     ]
    }
   ],
   "source": [
    "import numpy as np\n",
    "\n",
    "TOTAL = 1000000\n",
    "dots = sc.parallelize([2.0 * np.random.random(2) - 1.0\n",
    "                       for i in range(TOTAL)]) \\\n",
    "         .cache()\n",
    "print(\"Number of random points:\", dots.count())\n",
    "\n",
    "stats = dots.stats()\n",
    "print('Mean:', stats.mean())\n",
    "print('stdev:', stats.stdev())\n",
    "print(dots.take(5))"
   ]
  },
  {
   "cell_type": "code",
   "execution_count": 3,
   "metadata": {},
   "outputs": [
    {
     "data": {
      "text/plain": [
       "pyspark.rdd.PipelinedRDD"
      ]
     },
     "execution_count": 3,
     "metadata": {},
     "output_type": "execute_result"
    }
   ],
   "source": [
    "from operator import itemgetter\n",
    "\n",
    "# x.itemgetter(a) - fetches value at location a, assuming x is just an iterable (e.g. list)\n",
    "# sample.map(itemgetter(a)) - returns a new RDD object by applying itemgetter(a) to every element in sample\n",
    "# sample.map(itemgetter(a)).collect() - Takes the RDD object and returns it as a python list\n",
    "type(dots.map(itemgetter(0)))"
   ]
  },
  {
   "cell_type": "code",
   "execution_count": 4,
   "metadata": {},
   "outputs": [
    {
     "data": {
      "text/plain": [
       "<matplotlib.collections.PathCollection at 0x104afae10>"
      ]
     },
     "execution_count": 4,
     "metadata": {},
     "output_type": "execute_result"
    },
    {
     "data": {
      "image/png": "[encoded data removed]",
      "text/plain": [
       "<Figure size 720x360 with 2 Axes>"
      ]
     },
     "metadata": {},
     "output_type": "display_data"
    }
   ],
   "source": [
    "%matplotlib inline\n",
    "from operator import itemgetter\n",
    "from matplotlib import pyplot as plt\n",
    "\n",
    "plt.figure(figsize = (10, 5))\n",
    "\n",
    "# Plot 1\n",
    "plt.subplot(1, 2, 1)\n",
    "plt.xlim((-1.0, 1.0))\n",
    "plt.ylim((-1.0, 1.0))\n",
    "\n",
    "sample = dots.sample(False, 0.1)\n",
    "X = sample.map(itemgetter(0)).collect()\n",
    "Y = sample.map(itemgetter(1)).collect()\n",
    "plt.scatter(X, Y)\n",
    "\n",
    "# Plot 2\n",
    "plt.subplot(1, 2, 2)\n",
    "plt.xlim((-1.0, 1.0))\n",
    "plt.ylim((-1.0, 1.0))\n",
    "\n",
    "inCircle = lambda v: np.linalg.norm(v) <= 1.0\n",
    "dotsIn = sample.filter(inCircle).cache()\n",
    "dotsOut = sample.filter(lambda v: not inCircle(v)).cache()\n",
    "\n",
    "# inside circle\n",
    "Xin = dotsIn.map(itemgetter(0)).collect()\n",
    "Yin = dotsIn.map(itemgetter(1)).collect()\n",
    "plt.scatter(Xin, Yin, color = 'r')\n",
    "\n",
    "# outside circle\n",
    "Xout = dotsOut.map(itemgetter(0)).collect()\n",
    "Yout = dotsOut.map(itemgetter(1)).collect()\n",
    "plt.scatter(Xout, Yout)"
   ]
  },
  {
   "cell_type": "code",
   "execution_count": 5,
   "metadata": {},
   "outputs": [
    {
     "name": "stdout",
     "output_type": "stream",
     "text": [
      "The estimation of \\pi is: 3.141156\n"
     ]
    }
   ],
   "source": [
    "pi = 4.0 * (dots.filter(inCircle).count()*1.0 / TOTAL)\n",
    "print(\"The estimation of \\pi is:\", pi)"
   ]
  },
  {
   "cell_type": "code",
   "execution_count": 6,
   "metadata": {},
   "outputs": [
    {
     "name": "stdout",
     "output_type": "stream",
     "text": [
      "[0, 1, 2, 3]\n",
      "4\n"
     ]
    },
    {
     "data": {
      "text/plain": [
       "49995000"
      ]
     },
     "execution_count": 6,
     "metadata": {},
     "output_type": "execute_result"
    }
   ],
   "source": [
    "# Simple operations on plain RDDs\n",
    "print(sc.parallelize(range(4)).collect()) # Get original RDD back\n",
    "print(sc.parallelize(range(4)).count())   # Count the number of elements in an RDD\n",
    "A = sc.parallelize(range(10000))              # Define a function that generates an RDD\n",
    "A.reduce(lambda x, y: x+y)                # Use a reduce operation to sum of values of that RDD one at a time.  "
   ]
  },
  {
   "cell_type": "code",
   "execution_count": 27,
   "metadata": {},
   "outputs": [
    {
     "name": "stdout",
     "output_type": "stream",
     "text": [
      "ParallelCollectionRDD[83] at parallelize at PythonRDD.scala:184\n",
      "[(55632, {'name': 'yoav', 'city': 'jerusalem'}), (3342, {'name': 'homer', 'town': 'springfield'})]\n",
      "\n",
      "PythonRDD[85] at RDD at PythonRDD.scala:49\n",
      "[(0, 0), (1, 1), (2, 4), (3, 9)]\n",
      "\n",
      "ParallelCollectionRDD[86] at parallelize at PythonRDD.scala:184\n",
      "PythonRDD[91] at RDD at PythonRDD.scala:49\n",
      "[(4, 100), (1, -15), (3, 2)]\n"
     ]
    }
   ],
   "source": [
    "# Examples of (key, value) RDDs\n",
    "database = sc.parallelize([\n",
    "    (55632, {'name': 'yoav',  'city': 'jerusalem'} )\n",
    "    ,(3342, {'name': 'homer', 'town': 'springfield'})])\n",
    "print(database)\n",
    "print(database.collect())\n",
    "\n",
    "print(\"\")\n",
    "A = sc.parallelize(range(4)).map(lambda x: (x, x*x))\n",
    "print(A)\n",
    "print(A.collect())\n",
    "\n",
    "print(\"\")\n",
    "A = sc.parallelize([(1,3),(4,100),(1,-5),(3,2)])\n",
    "print(A)\n",
    "A = A.reduceByKey(lambda x,y: x*y)\n",
    "print (A)\n",
    "print(A.collect())\n",
    "\n",
    "# Should really be doing this with an iterator\n",
    "A = sc.parallelize(xrange(1000000))"
   ]
  },
  {
   "cell_type": "code",
   "execution_count": null,
   "metadata": {},
   "outputs": [],
   "source": []
  }
 ],
 "metadata": {
  "kernelspec": {
   "display_name": "Python 3",
   "language": "python",
   "name": "python3"
  },
  "language_info": {
   "codemirror_mode": {
    "name": "ipython",
    "version": 3
   },
   "file_extension": ".py",
   "mimetype": "text/x-python",
   "name": "python",
   "nbconvert_exporter": "python",
   "pygments_lexer": "ipython3",
   "version": "3.6.5"
  }
 },
 "nbformat": 4,
 "nbformat_minor": 2
}
