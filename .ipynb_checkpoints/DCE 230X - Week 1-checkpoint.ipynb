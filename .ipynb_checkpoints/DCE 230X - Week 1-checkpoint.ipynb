{
 "cells": [
  {
   "cell_type": "code",
   "execution_count": 10,
   "metadata": {},
   "outputs": [],
   "source": [
    "import findspark\n",
    "findspark.init()\n",
    "from pyspark import SparkContext\n",
    "from pyspark.sql import SparkSession\n",
    "#sc = SparkContext(master=\"local[4]\").getOrCreate()\n",
    "sc = SparkSession.builder.master(\"local[4]\").getOrCreate()"
   ]
  },
  {
   "cell_type": "code",
   "execution_count": null,
   "metadata": {},
   "outputs": [],
   "source": [
    "import numpy as np\n",
    "\n",
    "TOTAL = 1000000\n",
    "dots = sc.parallelize([2.0 * np.random.random(2) - 1.0\n",
    "                       for i in range(TOTAL)]) \\\n",
    "         .cache()\n",
    "print(\"Number of random points:\", dots.count())\n",
    "\n",
    "stats = dots.stats()\n",
    "print('Mean:', stats.mean())\n",
    "print('stdev:', stats.stdev())\n",
    "print(dots.take(5))"
   ]
  },
  {
   "cell_type": "code",
   "execution_count": null,
   "metadata": {},
   "outputs": [],
   "source": [
    "from operator import itemgetter\n",
    "\n",
    "# x.itemgetter(a) - fetches value at location a, assuming x is just an iterable (e.g. list)\n",
    "# sample.map(itemgetter(a)) - returns a new RDD object by applying itemgetter(a) to every element in sample\n",
    "# sample.map(itemgetter(a)).collect() - Takes the RDD object and returns it as a python list\n",
    "type(dots.map(itemgetter(0)))"
   ]
  },
  {
   "cell_type": "code",
   "execution_count": 11,
   "metadata": {},
   "outputs": [
    {
     "data": {
      "text/plain": [
       "<matplotlib.collections.PathCollection at 0x1160e4438>"
      ]
     },
     "execution_count": 11,
     "metadata": {},
     "output_type": "execute_result"
    },
    {
     "data": {
      "image/png": "[encoded data removed]",
      "text/plain": [
       "<Figure size 720x360 with 2 Axes>"
      ]
     },
     "metadata": {
      "needs_background": "light"
     },
     "output_type": "display_data"
    }
   ],
   "source": [
    "%matplotlib inline\n",
    "from operator import itemgetter\n",
    "from matplotlib import pyplot as plt\n",
    "\n",
    "plt.figure(figsize = (10, 5))\n",
    "\n",
    "# Plot 1\n",
    "plt.subplot(1, 2, 1)\n",
    "plt.xlim((-1.0, 1.0))\n",
    "plt.ylim((-1.0, 1.0))\n",
    "\n",
    "sample = dots.sample(False, 0.1)\n",
    "X = sample.map(itemgetter(0)).collect()\n",
    "Y = sample.map(itemgetter(1)).collect()\n",
    "plt.scatter(X, Y)\n",
    "\n",
    "# Plot 2\n",
    "plt.subplot(1, 2, 2)\n",
    "plt.xlim((-1.0, 1.0))\n",
    "plt.ylim((-1.0, 1.0))\n",
    "\n",
    "inCircle = lambda v: np.linalg.norm(v) <= 1.0\n",
    "dotsIn = sample.filter(inCircle).cache()\n",
    "dotsOut = sample.filter(lambda v: not inCircle(v)).cache()\n",
    "\n",
    "# inside circle\n",
    "Xin = dotsIn.map(itemgetter(0)).collect()\n",
    "Yin = dotsIn.map(itemgetter(1)).collect()\n",
    "plt.scatter(Xin, Yin, color = 'r')\n",
    "\n",
    "# outside circle\n",
    "Xout = dotsOut.map(itemgetter(0)).collect()\n",
    "Yout = dotsOut.map(itemgetter(1)).collect()\n",
    "plt.scatter(Xout, Yout)"
   ]
  },
  {
   "cell_type": "code",
   "execution_count": 12,
   "metadata": {},
   "outputs": [
    {
     "name": "stdout",
     "output_type": "stream",
     "text": [
      "The estimation of \\pi is: 3.14178\n"
     ]
    }
   ],
   "source": [
    "pi = 4.0 * (dots.filter(inCircle).count()*1.0 / TOTAL)\n",
    "print(\"The estimation of \\pi is:\", pi)"
   ]
  },
  {
   "cell_type": "code",
   "execution_count": 13,
   "metadata": {},
   "outputs": [
    {
     "name": "stdout",
     "output_type": "stream",
     "text": [
      "[0, 1, 2, 3]\n",
      "4\n"
     ]
    },
    {
     "data": {
      "text/plain": [
       "1249999975000000"
      ]
     },
     "execution_count": 13,
     "metadata": {},
     "output_type": "execute_result"
    }
   ],
   "source": [
    "# Simple operations on plain RDDs\n",
    "print(sc.parallelize(range(4)).collect()) # Get original RDD back as a list\n",
    "print(sc.parallelize(range(4)).count())   # Count the number of elements in an RDD\n",
    "A = sc.parallelize(range(50000000))              # Define a function that generates an RDD\n",
    "A.reduce(lambda x, y: x+y)                # Use a reduce operation to sum of values of that RDD one at a time.  "
   ]
  },
  {
   "cell_type": "code",
   "execution_count": 14,
   "metadata": {},
   "outputs": [
    {
     "name": "stdout",
     "output_type": "stream",
     "text": [
      "ParallelCollectionRDD[19] at parallelize at PythonRDD.scala:184\n",
      "[(55632, {'name': 'yoav', 'city': 'jerusalem'}), (3342, {'name': 'homer', 'town': 'springfield'})]\n",
      "\n",
      "PythonRDD[21] at RDD at PythonRDD.scala:49\n",
      "[(0, 0), (1, 1), (2, 4), (3, 9)]\n",
      "\n",
      "ParallelCollectionRDD[22] at parallelize at PythonRDD.scala:184\n",
      "PythonRDD[27] at RDD at PythonRDD.scala:49\n",
      "[(4, 100), (1, -15), (3, 2)]\n"
     ]
    }
   ],
   "source": [
    "# Examples of (key, value) RDDs\n",
    "database = sc.parallelize([\n",
    "    (55632, {'name': 'yoav',  'city': 'jerusalem'} )\n",
    "    ,(3342, {'name': 'homer', 'town': 'springfield'})])\n",
    "print(database)\n",
    "print(database.collect())\n",
    "\n",
    "print(\"\")\n",
    "A = sc.parallelize(range(4)).map(lambda x: (x, x*x))\n",
    "print(A)\n",
    "print(A.collect())\n",
    "\n",
    "print(\"\")\n",
    "A = sc.parallelize([(1,3),(4,100),(1,-5),(3,2)])\n",
    "print(A)\n",
    "A = A.reduceByKey(lambda x,y: x*y)\n",
    "print (A)\n",
    "print(A.collect())\n",
    "\n",
    "# Should really be doing large iterations this with an iterator, not a regular list\n",
    "# for x in xrange(1000000):\n",
    "\n"
   ]
  },
  {
   "cell_type": "code",
   "execution_count": 15,
   "metadata": {},
   "outputs": [
    {
     "data": {
      "text/plain": [
       "4.166666666666667"
      ]
     },
     "execution_count": 15,
     "metadata": {},
     "output_type": "execute_result"
    }
   ],
   "source": [
    "# Quiz 1.2 - Given a list l of integers, which of the following \n",
    "# expressions compute the average of the elements in the list?\n",
    "from functools import reduce\n",
    "l = [1,2,3,4,5,10]\n",
    "\n",
    "# Create an iterator that's a bunch of 1's the length of the list:\n",
    "#    ones: map(lambda x: 1, l)\n",
    "# Sum over that iterator: \n",
    "#    denominator =reduce(lambda x, y: x+y, ones)\n",
    "# Sum over the value of the items in the list: \n",
    "#     numerator = reduce(lambda x, y: x+y, l)\n",
    "# Divide them to get the mean:\n",
    "#     print(numerator / denominator)\n",
    "\n",
    "reduce(lambda x, y: x+y, l) / reduce(lambda x, y: x+y, map(lambda x: 1, l))"
   ]
  },
  {
   "cell_type": "code",
   "execution_count": null,
   "metadata": {},
   "outputs": [],
   "source": []
  },
  {
   "cell_type": "markdown",
   "metadata": {},
   "source": [
    "### Week 1, part 2 of 2"
   ]
  },
  {
   "cell_type": "markdown",
   "metadata": {},
   "source": [
    "# Shortest word in a list\n"
   ]
  },
  {
   "cell_type": "code",
   "execution_count": 16,
   "metadata": {},
   "outputs": [
    {
     "data": {
      "text/plain": [
       "'is'"
      ]
     },
     "execution_count": 16,
     "metadata": {},
     "output_type": "execute_result"
    }
   ],
   "source": [
    "words = {'this', 'is', 'the', 'best', 'mac', 'ever'}\n",
    "wordRdd = sc.parallelize(words)\n",
    "wordRdd.reduce(lambda w, v: w if len(w)<len(v) else v)"
   ]
  },
  {
   "cell_type": "markdown",
   "metadata": {},
   "source": [
    "#### Custom functions in a reduce statement"
   ]
  },
  {
   "cell_type": "code",
   "execution_count": 17,
   "metadata": {},
   "outputs": [
    {
     "data": {
      "text/plain": [
       "'this'"
      ]
     },
     "execution_count": 17,
     "metadata": {},
     "output_type": "execute_result"
    }
   ],
   "source": [
    "# Last lexigraphical word among the longest words\n",
    "words = {'this', 'is', 'the', 'best', 'mac', 'ever'}\n",
    "def largerThan(x, y):\n",
    "    if len(x) > len(y): return x\n",
    "    elif len(y) > len(x): return y\n",
    "    else: \n",
    "        if x > y:\n",
    "            return x\n",
    "        else:\n",
    "            return y\n",
    "wordRdd = sc.parallelize(words)\n",
    "wordRdd.reduce(largerThan)"
   ]
  },
  {
   "cell_type": "markdown",
   "metadata": {},
   "source": [
    "#### Spark Worker Optimization\n",
    "\n",
    "Should see the most optimization when using a multiple of the number of logical cores on the machine"
   ]
  },
  {
   "cell_type": "code",
   "execution_count": 15,
   "metadata": {},
   "outputs": [
    {
     "name": "stdout",
     "output_type": "stream",
     "text": [
      "1 executors, time = 1.9622411727905273\n",
      "2 executors, time = 1.347442865371704\n",
      "3 executors, time = 1.504870891571045\n",
      "4 executors, time = 1.3910601139068604\n",
      "5 executors, time = 1.4167201519012451\n",
      "6 executors, time = 1.797271728515625\n",
      "7 executors, time = 1.726923942565918\n",
      "8 executors, time = 1.6213691234588623\n",
      "9 executors, time = 1.6341488361358643\n"
     ]
    }
   ],
   "source": [
    "from time import time\n",
    "from pyspark import SparkContext\n",
    "from pyspark.sql import SparkSession\n",
    "sc.stop()\n",
    "for j in range(1, 10):\n",
    "    sc = SparkContext(master=\"local[%d]\"%(j)).getOrCreate()\n",
    "    t0 = time()\n",
    "    for i in range(10):\n",
    "        sc.parallelize([1,2]*100000).reduce(lambda x,y:x+y)\n",
    "    print(\"{} executors, time = {}\".format(j, time()-t0))\n",
    "    sc.stop()"
   ]
  },
  {
   "cell_type": "markdown",
   "metadata": {},
   "source": [
    "#### See the effect of Lazy Evaluation"
   ]
  },
  {
   "cell_type": "code",
   "execution_count": 45,
   "metadata": {},
   "outputs": [],
   "source": [
    "# New Spark context outside of other cells\n",
    "sc.stop()\n",
    "sc = SparkContext(master=\"local[4]\")\n",
    "RDD=sc.parallelize(range(1000000))"
   ]
  },
  {
   "cell_type": "code",
   "execution_count": 46,
   "metadata": {},
   "outputs": [
    {
     "name": "stdout",
     "output_type": "stream",
     "text": [
      "CPU times: user 28 µs, sys: 1e+03 ns, total: 29 µs\n",
      "Wall time: 34.8 µs\n"
     ]
    }
   ],
   "source": [
    "%%time\n",
    "# Create a dummy function to compute cos(x) from 1 to 100\n",
    "# Goal is just to take up time\n",
    "# Note that it takes 420 ms = 13 microseconds\n",
    "from math import cos\n",
    "def taketime(i):\n",
    "    [cos(j) for j in range(100)]\n",
    "    return cos(i)"
   ]
  },
  {
   "cell_type": "code",
   "execution_count": 36,
   "metadata": {},
   "outputs": [
    {
     "name": "stdout",
     "output_type": "stream",
     "text": [
      "CPU times: user 21 µs, sys: 1e+03 ns, total: 22 µs\n",
      "Wall time: 24.1 µs\n"
     ]
    },
    {
     "data": {
      "text/plain": [
       "0.5403023058681398"
      ]
     },
     "execution_count": 36,
     "metadata": {},
     "output_type": "execute_result"
    }
   ],
   "source": [
    "%%time\n",
    "taketime(1) # Taketime is the function that we described above"
   ]
  },
  {
   "cell_type": "code",
   "execution_count": 47,
   "metadata": {},
   "outputs": [
    {
     "name": "stdout",
     "output_type": "stream",
     "text": [
      "CPU times: user 32 µs, sys: 1 µs, total: 33 µs\n",
      "Wall time: 38.9 µs\n"
     ]
    }
   ],
   "source": [
    "%%time\n",
    "# Doing the taketime() on all values in the RDD -- 1 Million values\n",
    "# Expect it to take 1 Million x 13 microsec = 13 seconds\n",
    "# But it just takes ~20 microseconds!  \n",
    "# Because no computation was done -- we just created an execution plan.\n",
    "# Interm doesn't point to an RDD in memory.\n",
    "# It just points to an execution plan in a dependence graph.\n",
    "\n",
    "Interm=RDD.map(lambda x: taketime(x))"
   ]
  },
  {
   "cell_type": "code",
   "execution_count": 35,
   "metadata": {},
   "outputs": [
    {
     "name": "stdout",
     "output_type": "stream",
     "text": [
      "(4) PythonRDD[2] at RDD at PythonRDD.scala:49 []\n",
      " |  ParallelCollectionRDD[0] at parallelize at PythonRDD.scala:184 []\n"
     ]
    }
   ],
   "source": [
    "print(Interm.toDebugString().decode())"
   ]
  },
  {
   "cell_type": "markdown",
   "metadata": {},
   "source": [
    "##### Execute the Map without and with Caching"
   ]
  },
  {
   "cell_type": "code",
   "execution_count": 48,
   "metadata": {},
   "outputs": [
    {
     "name": "stdout",
     "output_type": "stream",
     "text": [
      "out= -0.2887054679684655\n",
      "CPU times: user 9.96 ms, sys: 5.21 ms, total: 15.2 ms\n",
      "Wall time: 8.31 s\n"
     ]
    }
   ],
   "source": [
    "%%time\n",
    "# Takes 8 seconds, << the 13 seconds we expected\n",
    "print('out=',Interm.reduce(lambda x, y: x+y))"
   ]
  },
  {
   "cell_type": "code",
   "execution_count": 53,
   "metadata": {},
   "outputs": [
    {
     "name": "stdout",
     "output_type": "stream",
     "text": [
      "out= 500000\n",
      "CPU times: user 6.19 ms, sys: 2.78 ms, total: 8.97 ms\n",
      "Wall time: 231 ms\n"
     ]
    }
   ],
   "source": [
    "%%time\n",
    "print('out=', Interm.filter(lambda x:x>0).count())"
   ]
  },
  {
   "cell_type": "code",
   "execution_count": 55,
   "metadata": {},
   "outputs": [
    {
     "name": "stdout",
     "output_type": "stream",
     "text": [
      "CPU times: user 3.61 ms, sys: 1.69 ms, total: 5.3 ms\n",
      "Wall time: 9.65 ms\n"
     ]
    }
   ],
   "source": [
    "%%time\n",
    "# Now cache\n",
    "Interm = RDD.map(lambda x: taketime(x)).cache()"
   ]
  },
  {
   "cell_type": "code",
   "execution_count": 42,
   "metadata": {},
   "outputs": [
    {
     "name": "stdout",
     "output_type": "stream",
     "text": [
      "(4) PythonRDD[5] at RDD at PythonRDD.scala:49 [Memory Serialized 1x Replicated]\n",
      " |  ParallelCollectionRDD[0] at parallelize at PythonRDD.scala:184 [Memory Serialized 1x Replicated]\n"
     ]
    }
   ],
   "source": [
    "print(Interm.toDebugString().decode())"
   ]
  },
  {
   "cell_type": "code",
   "execution_count": 52,
   "metadata": {},
   "outputs": [
    {
     "name": "stdout",
     "output_type": "stream",
     "text": [
      "out -0.2887054679684655\n",
      "CPU times: user 6.38 ms, sys: 3.06 ms, total: 9.44 ms\n",
      "Wall time: 219 ms\n"
     ]
    }
   ],
   "source": [
    "%%time\n",
    "print('out',Interm.reduce(lambda x, y: x+y))"
   ]
  },
  {
   "cell_type": "markdown",
   "metadata": {},
   "source": [
    "### Partition and Gloming\n",
    "- Can specify and RDD when creating a number of partitions\n",
    "- The default is the number of workers when defined in the SparkContext set up\n",
    "- You can repartition.  RDD.repartition(n).     Or sc.parallelize(range(10000),slices=10))\n",
    "\n",
    "#### Partitions\n",
    "- You need at least as many partitions as workers\n",
    "  - If you have workers without a partition to work on, then they're idle.\n",
    "  - I.e. the compute core (a worker) doesn't have anything to do (no data partition to crunch)\n",
    "- Smaller partitions (i.e. more partitions per unit of data) can allow more parallelization\n",
    "\n",
    "#### Partitioning and optimization\n",
    "- Suppose we use filter() to select some elements in A\n",
    "- Some partitions might have more elements remaining than others\n",
    "  - Then we'll have partitions with no data, so some workers are functionally idle\n",
    "- To fix, we need to repartition the RDD\n",
    "\n",
    "#### .partitionBy(k)\n",
    "- RDD.partitionBy(k) expects an RDD where the keys are integers\n",
    "- The element a position (key) is placed into partition number (key % k)\n",
    "- That predictability gives us control over which elements go into which partition\n",
    "  - You usually need to think through this!!\n",
    "  \n",
    "#### repartition(k)\n",
    "- Randomly distributes across all k partitions\n",
    "- Advantages: simple and doesn't require defining a key\n",
    "- Disadvantages: Lose control of the partitioning, which you may want to know going on"
   ]
  },
  {
   "cell_type": "code",
   "execution_count": 59,
   "metadata": {},
   "outputs": [
    {
     "name": "stdout",
     "output_type": "stream",
     "text": [
      "[100000, 100000, 100000, 100000, 100000, 100000, 100000, 100000, 100000, 100000]\n"
     ]
    }
   ],
   "source": [
    "# partitionBy(n) = aim for n equal sized partitions \n",
    "# The print statement shows us the size of each partition\n",
    "A = sc.parallelize(range(1000000))\\\n",
    "    .map(lambda x:(x,x)).partitionBy(10)\n",
    "print(A.glom().map(len).collect())"
   ]
  },
  {
   "cell_type": "code",
   "execution_count": 61,
   "metadata": {},
   "outputs": [
    {
     "name": "stdout",
     "output_type": "stream",
     "text": [
      "[100000, 0, 0, 0, 0, 100000, 0, 0, 0, 0]\n"
     ]
    }
   ],
   "source": [
    "# select 20% of the entries\n",
    "B = A.filter(lambda pair: pair[0]%5==0)\n",
    "# get the number of partitions\n",
    "print(B.glom().map(len).collect())"
   ]
  },
  {
   "cell_type": "code",
   "execution_count": 64,
   "metadata": {},
   "outputs": [
    {
     "name": "stdout",
     "output_type": "stream",
     "text": [
      "[20000, 20000, 20000, 20000, 20000, 20000, 20000, 20000, 20000, 20000]\n"
     ]
    }
   ],
   "source": [
    "# We want to repartition across all n workers -- suppose n = 10\n",
    "# All of our keys and values are multiples of 5.\n",
    "# Since our values are integers, we can make the key equal to the value divided by 10\n",
    "# It will automatically round the key, then we partitionBy(10)) again\n",
    "C = B.map(lambda pair:(pair[1]/10, pair[1])).partitionBy(10)\n",
    "print(C.glom().map(len).collect())"
   ]
  },
  {
   "cell_type": "markdown",
   "metadata": {},
   "source": [
    "#### glom() explanation\n",
    "- In general, Spark does not allow the worker to refer to specific elements of the RDD\n",
    "- However, glom() transforms each partition into a tuple of elements\n",
    "  - glom() creates an RDD of tuples\n",
    "  - one tuple per partition -- i.e. all data on the partition is contained in a tuple\n",
    "  - Workers can then refer to elements by their index in the tuple\n",
    "  - But you still can't assign values to particular elements because RDDs are still immutable\n",
    "  \n",
    "#### glom()'s uses\n",
    "- C.glom().map(len).collect()\n",
    "  - C.glom() creates a tuple on each partition\n",
    "  - .map(len) applies the len operation to each partition (still as an RDD)\n",
    "  - .collect() materializes that result into a list\n",
    "  \n",
    "- Any time that you want to care what's in your partition (see example below)"
   ]
  },
  {
   "cell_type": "code",
   "execution_count": 71,
   "metadata": {},
   "outputs": [
    {
     "name": "stdout",
     "output_type": "stream",
     "text": [
      "[(0, 100000, 999990), None, None, None, None, (5, 100000, 999990), None, None, None, None]\n"
     ]
    }
   ],
   "source": [
    "# Fun test example of glom() -- returns some info about the RDD when the partition is blank\n",
    "def getPartitionInfo(G):\n",
    "    d=0\n",
    "    if len(G)>1: \n",
    "        for i in range(len(G)-1):\n",
    "            d+=abs(G[i+1][1] - G[i][1]) # Access the glom'd RDD now that it's a tuple\n",
    "        return (G[0][0], len(G), d)\n",
    "    else:\n",
    "        return(None)\n",
    "    \n",
    "output=B.glom().map(lambda B: getPartitionInfo(B)).collect()\n",
    "print(output)"
   ]
  },
  {
   "cell_type": "code",
   "execution_count": null,
   "metadata": {},
   "outputs": [],
   "source": []
  },
  {
   "cell_type": "code",
   "execution_count": null,
   "metadata": {},
   "outputs": [],
   "source": []
  },
  {
   "cell_type": "code",
   "execution_count": null,
   "metadata": {},
   "outputs": [],
   "source": []
  },
  {
   "cell_type": "code",
   "execution_count": null,
   "metadata": {},
   "outputs": [],
   "source": []
  },
  {
   "cell_type": "code",
   "execution_count": null,
   "metadata": {},
   "outputs": [],
   "source": []
  }
 ],
 "metadata": {
  "kernelspec": {
   "display_name": "Python 3",
   "language": "python",
   "name": "python3"
  },
  "language_info": {
   "codemirror_mode": {
    "name": "ipython",
    "version": 3
   },
   "file_extension": ".py",
   "mimetype": "text/x-python",
   "name": "python",
   "nbconvert_exporter": "python",
   "pygments_lexer": "ipython3",
   "version": "3.7.1"
  }
 },
 "nbformat": 4,
 "nbformat_minor": 2
}
